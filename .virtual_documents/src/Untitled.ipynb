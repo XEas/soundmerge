import numpy as np
import matplotlib.pyplot as plt


a = np.random.rand(10000)
b = np.random.rand(10000)


plt.hist(a, bins=100);


plt.hist(b, bins=100);


plt.hist((a+b) / 2, bins=100);


k1 = a * b
k2 = a * (1-b)


plt.hist((k1+k2)/2, bins=100);



