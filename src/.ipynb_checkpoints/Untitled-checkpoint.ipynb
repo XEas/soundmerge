{
 "cells": [
  {
   "cell_type": "code",
   "execution_count": 1,
   "id": "ed61fadd-cf99-4f5a-b7f1-10fffffa4a7e",
   "metadata": {},
   "outputs": [],
   "source": [
    "import numpy as np"
   ]
  },
  {
   "cell_type": "code",
   "execution_count": 3,
   "id": "95fae94c-9cd8-4ebe-a79d-0712160fd453",
   "metadata": {},
   "outputs": [],
   "source": [
    "a = np.random.rand(10000)\n",
    "b = np.random.rand(10000)"
   ]
  },
  {
   "cell_type": "code",
   "execution_count": null,
   "id": "952810e6-725c-4bec-8ea7-3b1f79a3f2a7",
   "metadata": {},
   "outputs": [],
   "source": []
  }
 ],
 "metadata": {
  "kernelspec": {
   "display_name": "my-env",
   "language": "python",
   "name": "my-env"
  },
  "language_info": {
   "codemirror_mode": {
    "name": "ipython",
    "version": 3
   },
   "file_extension": ".py",
   "mimetype": "text/x-python",
   "name": "python",
   "nbconvert_exporter": "python",
   "pygments_lexer": "ipython3",
   "version": "3.9.6"
  }
 },
 "nbformat": 4,
 "nbformat_minor": 5
}
