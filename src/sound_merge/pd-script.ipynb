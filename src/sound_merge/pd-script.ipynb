{
 "cells": [
  {
   "cell_type": "code",
   "execution_count": 32,
   "metadata": {},
   "outputs": [],
   "source": [
    "from config import *\n",
    "import os"
   ]
  },
  {
   "cell_type": "code",
   "execution_count": 7,
   "metadata": {},
   "outputs": [],
   "source": [
    "from pydub import AudioSegment\n",
    "from pydub.playback import play"
   ]
  },
  {
   "cell_type": "code",
   "execution_count": 8,
   "metadata": {},
   "outputs": [],
   "source": [
    "music1 = AudioSegment.from_file(str(test_data / \"music1.wav\"), format=\"wav\") # 44.1 kHz 16 bit\n",
    "music2 = AudioSegment.from_file(str(test_data / \"music2.wav\"), format=\"wav\") # 44.1 kHz 16 bit\n",
    "speech1 = AudioSegment.from_file(str(test_data / \"voice1.wav\"), format=\"wav\") # 44.1 kHz 16 bit\n",
    "speech2 = AudioSegment.from_file(str(test_data / \"voice2.wav\"), format=\"wav\") # 44.1 kHz 16 bit"
   ]
  },
  {
   "cell_type": "code",
   "execution_count": 15,
   "metadata": {},
   "outputs": [],
   "source": [
    "def get_median_dBFS(path):\n",
    "    \"\"\"Calculates the median dBFS value of all .wav files in the given directory.\"\"\"\n",
    "    dBFS_values = []\n",
    "    for filename in path.iterdir():\n",
    "        if filename.suffix != \".wav\":\n",
    "            continue\n",
    "        audio = AudioSegment.from_file(str(path / filename), format=\"wav\")\n",
    "        dBFS_values.append(audio.dBFS)\n",
    "    \n",
    "    median = sorted(dBFS_values)[len(dBFS_values) // 2]\n",
    "    return median"
   ]
  },
  {
   "cell_type": "code",
   "execution_count": 36,
   "metadata": {},
   "outputs": [
    {
     "data": {
      "text/plain": [
       "-21.553987442786596"
      ]
     },
     "execution_count": 36,
     "metadata": {},
     "output_type": "execute_result"
    }
   ],
   "source": [
    "median_test_data = get_median_dBFS(test_data) # -21.55\n",
    "median_test_data"
   ]
  },
  {
   "cell_type": "code",
   "execution_count": 38,
   "metadata": {},
   "outputs": [
    {
     "name": "stdout",
     "output_type": "stream",
     "text": [
      "music2.wav: -23.13888046938965\n",
      "music3.wav: -21.553987442786596\n",
      "music1.wav: -22.479710462412292\n",
      "voice2.wav: -19.66155602783681\n",
      "voice3.wav: -22.913552927255097\n",
      "voice1.wav: -18.733923010665663\n"
     ]
    }
   ],
   "source": [
    "for filename in test_data.iterdir():\n",
    "    if filename.suffix != \".wav\":\n",
    "        continue\n",
    "    audio = AudioSegment.from_file(str(filename), format=\"wav\")\n",
    "    print(f\"{filename.name}: {audio.dBFS}\")"
   ]
  },
  {
   "cell_type": "code",
   "execution_count": 40,
   "metadata": {},
   "outputs": [],
   "source": [
    "def normalize_dBFS(path, target_dBFS, new_path):\n",
    "    os.makedirs(new_path, exist_ok=True)\n",
    "    \"\"\"Normalizes all .wav files in the given directory to the target dBFS value.\"\"\"\n",
    "    for filename in path.iterdir():\n",
    "        if filename.suffix != \".wav\":\n",
    "            continue\n",
    "        audio = AudioSegment.from_file(str(path / filename), format=\"wav\")\n",
    "        audio = audio.apply_gain(target_dBFS - audio.dBFS)\n",
    "        filename = filename.stem + \"_normalized.wav\"\n",
    "        audio.export(str(new_path / filename), format=\"wav\")"
   ]
  },
  {
   "cell_type": "code",
   "execution_count": 42,
   "metadata": {},
   "outputs": [],
   "source": [
    "normalized_data = home / \"sound-merge\" / \"tests\" / \"normalized_data\""
   ]
  },
  {
   "cell_type": "code",
   "execution_count": 43,
   "metadata": {},
   "outputs": [],
   "source": [
    "normalize_dBFS(test_data, median_test_data, normalized_data)"
   ]
  },
  {
   "cell_type": "code",
   "execution_count": 47,
   "metadata": {},
   "outputs": [
    {
     "name": "stdout",
     "output_type": "stream",
     "text": [
      "median: -21.553987442786596\n",
      "music2_normalized.wav: -21.553987442786596\n",
      "music3_normalized.wav: -21.553987442786596\n",
      "voice1_normalized.wav: -21.553987442786596\n",
      "music1_normalized.wav: -21.553987442786596\n",
      "voice3_normalized.wav: -21.557158054115128\n",
      "voice2_normalized.wav: -21.553987442786596\n"
     ]
    }
   ],
   "source": [
    "print(f\"median: {get_median_dBFS(normalized_data)}\")\n",
    "for filename in normalized_data.iterdir():\n",
    "    if filename.suffix != \".wav\":\n",
    "        continue\n",
    "    audio = AudioSegment.from_file(str(filename), format=\"wav\")\n",
    "    print(f\"{filename.name}: {audio.dBFS}\")"
   ]
  },
  {
   "cell_type": "markdown",
   "metadata": {},
   "source": []
  },
  {
   "cell_type": "code",
   "execution_count": null,
   "metadata": {},
   "outputs": [],
   "source": []
  }
 ],
 "metadata": {
  "kernelspec": {
   "display_name": ".venv",
   "language": "python",
   "name": "python3"
  },
  "language_info": {
   "codemirror_mode": {
    "name": "ipython",
    "version": 3
   },
   "file_extension": ".py",
   "mimetype": "text/x-python",
   "name": "python",
   "nbconvert_exporter": "python",
   "pygments_lexer": "ipython3",
   "version": "3.11.7"
  }
 },
 "nbformat": 4,
 "nbformat_minor": 2
}
